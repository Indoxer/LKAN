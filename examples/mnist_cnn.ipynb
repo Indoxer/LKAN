{
 "cells": [
  {
   "cell_type": "code",
   "execution_count": 15,
   "metadata": {},
   "outputs": [],
   "source": [
    "import torch\n",
    "import torch.nn as nn\n",
    "import torch.nn.functional as F\n",
    "import torchvision\n",
    "from tqdm import tqdm\n",
    "\n",
    "from lkan.models import KANConv2d, KANLinear2\n",
    "\n",
    "if torch.cuda.is_available():\n",
    "    device = torch.device(\"cuda\")\n",
    "else:\n",
    "    device = torch.device(\"cpu\")"
   ]
  },
  {
   "cell_type": "code",
   "execution_count": 16,
   "metadata": {},
   "outputs": [],
   "source": [
    "class MLP(nn.Module):\n",
    "    def __init__(self):\n",
    "        super().__init__()\n",
    "        self.layers = nn.Sequential(\n",
    "            nn.Conv2d(\n",
    "                in_channels=1, out_channels=32, kernel_size=5, stride=1, padding=2\n",
    "            ),\n",
    "            nn.ReLU(),\n",
    "            nn.MaxPool2d(2),\n",
    "            nn.Conv2d(32, 32, 5, 1, 2),\n",
    "            nn.ReLU(),\n",
    "            nn.MaxPool2d(2),\n",
    "            nn.Flatten(),\n",
    "            nn.Linear(32 * 7 * 7, 10),\n",
    "        )\n",
    "\n",
    "    def forward(self, x):\n",
    "        x = self.layers(x)\n",
    "        return x\n",
    "\n",
    "\n",
    "class KAN(nn.Module):\n",
    "    def __init__(self):\n",
    "        super().__init__()\n",
    "        self.layers = nn.Sequential(\n",
    "            KANConv2d(\n",
    "                in_channels=1, out_channels=4, kernel_size=5, stride=1, padding=2\n",
    "            ),\n",
    "            nn.MaxPool2d(2),\n",
    "            KANConv2d(4, 8, 5, 1, 2),\n",
    "            nn.MaxPool2d(2),\n",
    "            nn.Flatten(),\n",
    "            KANLinear2(8 * 7 * 7, 10),\n",
    "        )\n",
    "\n",
    "    def forward(self, x):\n",
    "        x = self.layers(x)\n",
    "        return x"
   ]
  },
  {
   "cell_type": "code",
   "execution_count": 17,
   "metadata": {},
   "outputs": [],
   "source": [
    "data_dir = \"../.data/\"\n",
    "batch_size = 64\n",
    "split_ratio = 0.8\n",
    "\n",
    "lr = 0.002\n",
    "epochs = 5\n",
    "\n",
    "transform = torchvision.transforms.Compose(\n",
    "    [\n",
    "        torchvision.transforms.ToTensor(),\n",
    "    ]\n",
    ")\n",
    "\n",
    "dataset = torchvision.datasets.MNIST(data_dir, transform=transform, download=True)\n",
    "ds_train, ds_val = torch.utils.data.random_split(\n",
    "    dataset,\n",
    "    [int(len(dataset) * split_ratio), len(dataset) - int(len(dataset) * split_ratio)],\n",
    ")\n",
    "loader_val = torch.utils.data.DataLoader(ds_val, batch_size=batch_size, shuffle=False)\n",
    "loader_train = torch.utils.data.DataLoader(\n",
    "    ds_train, batch_size=batch_size, shuffle=True\n",
    ")"
   ]
  },
  {
   "cell_type": "code",
   "execution_count": 18,
   "metadata": {},
   "outputs": [
    {
     "name": "stdout",
     "output_type": "stream",
     "text": [
      "Number of parameters: 43392\n"
     ]
    }
   ],
   "source": [
    "# model = MLP().to(device)\n",
    "model = KAN().to(device)\n",
    "\n",
    "counter = 0\n",
    "for param in model.parameters():\n",
    "    counter += param.numel()\n",
    "\n",
    "print(f\"Number of parameters: {counter}\")"
   ]
  },
  {
   "cell_type": "code",
   "execution_count": 19,
   "metadata": {},
   "outputs": [
    {
     "name": "stdout",
     "output_type": "stream",
     "text": [
      "Training...\n"
     ]
    },
    {
     "name": "stderr",
     "output_type": "stream",
     "text": [
      "  0%|          | 2/750 [00:00<00:46, 15.99it/s]"
     ]
    },
    {
     "name": "stdout",
     "output_type": "stream",
     "text": [
      "torch.Size([64, 1, 28, 28])\n",
      "torch.Size([64, 4, 14, 14])\n",
      "torch.Size([64, 1, 28, 28])\n",
      "torch.Size([64, 4, 14, 14])\n",
      "torch.Size([64, 1, 28, 28])\n",
      "torch.Size([64, 4, 14, 14])\n",
      "torch.Size([64, 1, 28, 28])\n",
      "torch.Size([64, 4, 14, 14])\n"
     ]
    },
    {
     "name": "stderr",
     "output_type": "stream",
     "text": [
      "  1%|          | 6/750 [00:00<00:42, 17.53it/s]"
     ]
    },
    {
     "name": "stdout",
     "output_type": "stream",
     "text": [
      "torch.Size([64, 1, 28, 28])\n",
      "torch.Size([64, 4, 14, 14])\n",
      "torch.Size([64, 1, 28, 28])\n",
      "torch.Size([64, 4, 14, 14])\n",
      "torch.Size([64, 1, 28, 28])\n",
      "torch.Size([64, 4, 14, 14])\n",
      "torch.Size([64, 1, 28, 28])\n",
      "torch.Size([64, 4, 14, 14])\n"
     ]
    },
    {
     "name": "stderr",
     "output_type": "stream",
     "text": [
      "  1%|▏         | 10/750 [00:00<00:43, 16.84it/s]"
     ]
    },
    {
     "name": "stdout",
     "output_type": "stream",
     "text": [
      "torch.Size([64, 1, 28, 28])\n",
      "torch.Size([64, 4, 14, 14])\n",
      "torch.Size([64, 1, 28, 28])\n",
      "torch.Size([64, 4, 14, 14])\n",
      "torch.Size([64, 1, 28, 28])\n",
      "torch.Size([64, 4, 14, 14])\n",
      "torch.Size([64, 1, 28, 28])\n",
      "torch.Size([64, 4, 14, 14])\n"
     ]
    },
    {
     "name": "stderr",
     "output_type": "stream",
     "text": [
      "  2%|▏         | 14/750 [00:00<00:42, 17.25it/s]"
     ]
    },
    {
     "name": "stdout",
     "output_type": "stream",
     "text": [
      "torch.Size([64, 1, 28, 28])\n",
      "torch.Size([64, 4, 14, 14])\n",
      "torch.Size([64, 1, 28, 28])\n",
      "torch.Size([64, 4, 14, 14])\n",
      "torch.Size([64, 1, 28, 28])\n",
      "torch.Size([64, 4, 14, 14])\n",
      "torch.Size([64, 1, 28, 28])\n",
      "torch.Size([64, 4, 14, 14])\n"
     ]
    },
    {
     "name": "stderr",
     "output_type": "stream",
     "text": [
      "  2%|▏         | 18/750 [00:01<00:41, 17.50it/s]"
     ]
    },
    {
     "name": "stdout",
     "output_type": "stream",
     "text": [
      "torch.Size([64, 1, 28, 28])\n",
      "torch.Size([64, 4, 14, 14])\n",
      "torch.Size([64, 1, 28, 28])\n",
      "torch.Size([64, 4, 14, 14])\n",
      "torch.Size([64, 1, 28, 28])\n",
      "torch.Size([64, 4, 14, 14])\n",
      "torch.Size([64, 1, 28, 28])\n",
      "torch.Size([64, 4, 14, 14])\n"
     ]
    },
    {
     "name": "stderr",
     "output_type": "stream",
     "text": [
      "  3%|▎         | 22/750 [00:01<00:41, 17.38it/s]"
     ]
    },
    {
     "name": "stdout",
     "output_type": "stream",
     "text": [
      "torch.Size([64, 1, 28, 28])\n",
      "torch.Size([64, 4, 14, 14])\n",
      "torch.Size([64, 1, 28, 28])\n",
      "torch.Size([64, 4, 14, 14])\n",
      "torch.Size([64, 1, 28, 28])\n",
      "torch.Size([64, 4, 14, 14])\n",
      "torch.Size([64, 1, 28, 28])\n",
      "torch.Size([64, 4, 14, 14])\n"
     ]
    },
    {
     "name": "stderr",
     "output_type": "stream",
     "text": [
      "  3%|▎         | 26/750 [00:01<00:41, 17.42it/s]"
     ]
    },
    {
     "name": "stdout",
     "output_type": "stream",
     "text": [
      "torch.Size([64, 1, 28, 28])\n",
      "torch.Size([64, 4, 14, 14])\n",
      "torch.Size([64, 1, 28, 28])\n",
      "torch.Size([64, 4, 14, 14])\n",
      "torch.Size([64, 1, 28, 28])\n",
      "torch.Size([64, 4, 14, 14])\n",
      "torch.Size([64, 1, 28, 28])\n",
      "torch.Size([64, 4, 14, 14])\n"
     ]
    },
    {
     "name": "stderr",
     "output_type": "stream",
     "text": [
      "  4%|▍         | 30/750 [00:01<00:41, 17.38it/s]"
     ]
    },
    {
     "name": "stdout",
     "output_type": "stream",
     "text": [
      "torch.Size([64, 1, 28, 28])\n",
      "torch.Size([64, 4, 14, 14])\n",
      "torch.Size([64, 1, 28, 28])\n",
      "torch.Size([64, 4, 14, 14])\n",
      "torch.Size([64, 1, 28, 28])\n",
      "torch.Size([64, 4, 14, 14])\n",
      "torch.Size([64, 1, 28, 28])\n",
      "torch.Size([64, 4, 14, 14])\n"
     ]
    },
    {
     "name": "stderr",
     "output_type": "stream",
     "text": [
      "  5%|▍         | 34/750 [00:01<00:40, 17.56it/s]"
     ]
    },
    {
     "name": "stdout",
     "output_type": "stream",
     "text": [
      "torch.Size([64, 1, 28, 28])\n",
      "torch.Size([64, 4, 14, 14])\n",
      "torch.Size([64, 1, 28, 28])\n",
      "torch.Size([64, 4, 14, 14])\n",
      "torch.Size([64, 1, 28, 28])\n",
      "torch.Size([64, 4, 14, 14])\n",
      "torch.Size([64, 1, 28, 28])\n",
      "torch.Size([64, 4, 14, 14])\n"
     ]
    },
    {
     "name": "stderr",
     "output_type": "stream",
     "text": [
      "  5%|▌         | 38/750 [00:02<00:40, 17.46it/s]"
     ]
    },
    {
     "name": "stdout",
     "output_type": "stream",
     "text": [
      "torch.Size([64, 1, 28, 28])\n",
      "torch.Size([64, 4, 14, 14])\n",
      "torch.Size([64, 1, 28, 28])\n",
      "torch.Size([64, 4, 14, 14])\n",
      "torch.Size([64, 1, 28, 28])\n",
      "torch.Size([64, 4, 14, 14])\n",
      "torch.Size([64, 1, 28, 28])\n",
      "torch.Size([64, 4, 14, 14])\n"
     ]
    },
    {
     "name": "stderr",
     "output_type": "stream",
     "text": [
      "  6%|▌         | 42/750 [00:02<00:41, 17.17it/s]"
     ]
    },
    {
     "name": "stdout",
     "output_type": "stream",
     "text": [
      "torch.Size([64, 1, 28, 28])\n",
      "torch.Size([64, 4, 14, 14])\n",
      "torch.Size([64, 1, 28, 28])\n",
      "torch.Size([64, 4, 14, 14])\n",
      "torch.Size([64, 1, 28, 28])\n",
      "torch.Size([64, 4, 14, 14])\n",
      "torch.Size([64, 1, 28, 28])\n",
      "torch.Size([64, 4, 14, 14])\n"
     ]
    },
    {
     "name": "stderr",
     "output_type": "stream",
     "text": [
      "  6%|▌         | 46/750 [00:02<00:40, 17.24it/s]"
     ]
    },
    {
     "name": "stdout",
     "output_type": "stream",
     "text": [
      "torch.Size([64, 1, 28, 28])\n",
      "torch.Size([64, 4, 14, 14])\n",
      "torch.Size([64, 1, 28, 28])\n",
      "torch.Size([64, 4, 14, 14])\n",
      "torch.Size([64, 1, 28, 28])\n",
      "torch.Size([64, 4, 14, 14])\n",
      "torch.Size([64, 1, 28, 28])\n",
      "torch.Size([64, 4, 14, 14])\n"
     ]
    },
    {
     "name": "stderr",
     "output_type": "stream",
     "text": [
      "  7%|▋         | 50/750 [00:02<00:40, 17.48it/s]"
     ]
    },
    {
     "name": "stdout",
     "output_type": "stream",
     "text": [
      "torch.Size([64, 1, 28, 28])\n",
      "torch.Size([64, 4, 14, 14])\n",
      "torch.Size([64, 1, 28, 28])\n",
      "torch.Size([64, 4, 14, 14])\n",
      "torch.Size([64, 1, 28, 28])\n",
      "torch.Size([64, 4, 14, 14])\n",
      "torch.Size([64, 1, 28, 28])\n",
      "torch.Size([64, 4, 14, 14])\n"
     ]
    },
    {
     "name": "stderr",
     "output_type": "stream",
     "text": [
      "  7%|▋         | 54/750 [00:03<00:39, 17.56it/s]"
     ]
    },
    {
     "name": "stdout",
     "output_type": "stream",
     "text": [
      "torch.Size([64, 1, 28, 28])\n",
      "torch.Size([64, 4, 14, 14])\n",
      "torch.Size([64, 1, 28, 28])\n",
      "torch.Size([64, 4, 14, 14])\n",
      "torch.Size([64, 1, 28, 28])\n",
      "torch.Size([64, 4, 14, 14])\n",
      "torch.Size([64, 1, 28, 28])\n",
      "torch.Size([64, 4, 14, 14])\n"
     ]
    },
    {
     "name": "stderr",
     "output_type": "stream",
     "text": [
      "  8%|▊         | 57/750 [00:03<00:40, 17.08it/s]"
     ]
    },
    {
     "name": "stdout",
     "output_type": "stream",
     "text": [
      "torch.Size([64, 1, 28, 28])\n",
      "torch.Size([64, 4, 14, 14])\n",
      "torch.Size([64, 1, 28, 28])\n",
      "torch.Size([64, 4, 14, 14])\n"
     ]
    },
    {
     "name": "stderr",
     "output_type": "stream",
     "text": [
      "\n"
     ]
    },
    {
     "ename": "KeyboardInterrupt",
     "evalue": "",
     "output_type": "error",
     "traceback": [
      "\u001b[0;31m---------------------------------------------------------------------------\u001b[0m",
      "\u001b[0;31mKeyboardInterrupt\u001b[0m                         Traceback (most recent call last)",
      "Cell \u001b[0;32mIn[19], line 18\u001b[0m\n\u001b[1;32m     15\u001b[0m     loss\u001b[38;5;241m.\u001b[39mbackward()\n\u001b[1;32m     16\u001b[0m     opt\u001b[38;5;241m.\u001b[39mstep()\n\u001b[0;32m---> 18\u001b[0m     train_acc \u001b[38;5;241m+\u001b[39m\u001b[38;5;241m=\u001b[39m \u001b[43m(\u001b[49m\u001b[43my_pred\u001b[49m\u001b[38;5;241;43m.\u001b[39;49m\u001b[43margmax\u001b[49m\u001b[43m(\u001b[49m\u001b[38;5;241;43m1\u001b[39;49m\u001b[43m)\u001b[49m\u001b[43m \u001b[49m\u001b[38;5;241;43m==\u001b[39;49m\u001b[43m \u001b[49m\u001b[43my\u001b[49m\u001b[43m)\u001b[49m\u001b[38;5;241;43m.\u001b[39;49m\u001b[43mfloat\u001b[49m\u001b[43m(\u001b[49m\u001b[43m)\u001b[49m\u001b[38;5;241;43m.\u001b[39;49m\u001b[43mmean\u001b[49m\u001b[43m(\u001b[49m\u001b[43m)\u001b[49m\u001b[38;5;241;43m.\u001b[39;49m\u001b[43mitem\u001b[49m\u001b[43m(\u001b[49m\u001b[43m)\u001b[49m\n\u001b[1;32m     19\u001b[0m     avg_train_loss \u001b[38;5;241m+\u001b[39m\u001b[38;5;241m=\u001b[39m loss\u001b[38;5;241m.\u001b[39mitem()\n\u001b[1;32m     21\u001b[0m avg_train_loss \u001b[38;5;241m/\u001b[39m\u001b[38;5;241m=\u001b[39m \u001b[38;5;28mlen\u001b[39m(loader_train)\n",
      "\u001b[0;31mKeyboardInterrupt\u001b[0m: "
     ]
    }
   ],
   "source": [
    "opt = torch.optim.Adam(model.parameters(), lr=lr)\n",
    "\n",
    "for epoch in range(epochs):\n",
    "    print(\"Training...\")\n",
    "    train_acc = 0\n",
    "    avg_train_loss = 0\n",
    "    for x, y in tqdm(loader_train):\n",
    "        x, y = x.to(device), y.to(device)\n",
    "\n",
    "        opt.zero_grad()\n",
    "\n",
    "        y_pred = model(x)\n",
    "        loss = nn.CrossEntropyLoss()(y_pred, y)\n",
    "\n",
    "        loss.backward()\n",
    "        opt.step()\n",
    "\n",
    "        train_acc += (y_pred.argmax(1) == y).float().mean().item()\n",
    "        avg_train_loss += loss.item()\n",
    "\n",
    "    avg_train_loss /= len(loader_train)\n",
    "    train_acc /= len(loader_train)\n",
    "\n",
    "    print(\"Validation...\")\n",
    "    \n",
    "    with torch.no_grad():\n",
    "        acc = 0\n",
    "        avg_loss = 0\n",
    "        for x, y in tqdm(loader_val):\n",
    "            x, y = x.to(device), y.to(device)\n",
    "            y_pred = model(x)\n",
    "            loss = nn.CrossEntropyLoss()(y_pred, y)\n",
    "            acc += (y_pred.argmax(1) == y).float().mean().item()\n",
    "            avg_loss += loss.item()\n",
    "        acc /= len(loader_val)\n",
    "        avg_loss /= len(loader_val)\n",
    "        print(\n",
    "            f\"Epoch {epoch+1}/{epochs} - Train Loss: {avg_train_loss} - Val Loss: {avg_loss} - Train Acc: {train_acc} -Val Acc: {acc}\"\n",
    "        )\n",
    "\n",
    "print(\"Done!\")"
   ]
  }
 ],
 "metadata": {
  "kernelspec": {
   "display_name": "lkan",
   "language": "python",
   "name": "python3"
  },
  "language_info": {
   "codemirror_mode": {
    "name": "ipython",
    "version": 3
   },
   "file_extension": ".py",
   "mimetype": "text/x-python",
   "name": "python",
   "nbconvert_exporter": "python",
   "pygments_lexer": "ipython3",
   "version": "3.10.0"
  }
 },
 "nbformat": 4,
 "nbformat_minor": 2
}
